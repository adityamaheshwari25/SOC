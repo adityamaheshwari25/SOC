{
  "nbformat": 4,
  "nbformat_minor": 0,
  "metadata": {
    "colab": {
      "name": "TASK1.ipynb",
      "provenance": [],
      "collapsed_sections": []
    },
    "kernelspec": {
      "name": "python3",
      "display_name": "Python 3"
    },
    "language_info": {
      "name": "python"
    }
  },
  "cells": [
    {
      "cell_type": "markdown",
      "metadata": {
        "id": "nmbXKND1VCQL"
      },
      "source": [
        "TASK 1"
      ]
    },
    {
      "cell_type": "code",
      "metadata": {
        "id": "xMoyLaK_Q3fL"
      },
      "source": [
        "import pandas as pd"
      ],
      "execution_count": null,
      "outputs": []
    },
    {
      "cell_type": "code",
      "metadata": {
        "colab": {
          "base_uri": "https://localhost:8080/"
        },
        "id": "E6ajShUrRCQ6",
        "outputId": "df2b9719-f841-48ec-adf6-30aae0835101"
      },
      "source": [
        "from google.colab import drive\n",
        "drive.mount('/content/drive')"
      ],
      "execution_count": null,
      "outputs": [
        {
          "output_type": "stream",
          "text": [
            "Drive already mounted at /content/drive; to attempt to forcibly remount, call drive.mount(\"/content/drive\", force_remount=True).\n"
          ],
          "name": "stdout"
        }
      ]
    },
    {
      "cell_type": "code",
      "metadata": {
        "id": "rlZEb93MRyMk"
      },
      "source": [
        "df = pd.read_csv('/master.csv')"
      ],
      "execution_count": null,
      "outputs": []
    },
    {
      "cell_type": "code",
      "metadata": {
        "colab": {
          "base_uri": "https://localhost:8080/"
        },
        "id": "S6-aZ3HYR4rs",
        "outputId": "26c1e32c-ccf5-4e6f-d9a3-33498a9f12fb"
      },
      "source": [
        "print(df)"
      ],
      "execution_count": null,
      "outputs": [
        {
          "output_type": "stream",
          "text": [
            "          country  year  ... gdp_per_capita ($)       generation\n",
            "0         Albania  1987  ...                796     Generation X\n",
            "1         Albania  1987  ...                796           Silent\n",
            "2         Albania  1987  ...                796     Generation X\n",
            "3         Albania  1987  ...                796  G.I. Generation\n",
            "4         Albania  1987  ...                796          Boomers\n",
            "...           ...   ...  ...                ...              ...\n",
            "27815  Uzbekistan  2014  ...               2309     Generation X\n",
            "27816  Uzbekistan  2014  ...               2309           Silent\n",
            "27817  Uzbekistan  2014  ...               2309     Generation Z\n",
            "27818  Uzbekistan  2014  ...               2309     Generation Z\n",
            "27819  Uzbekistan  2014  ...               2309          Boomers\n",
            "\n",
            "[27820 rows x 12 columns]\n"
          ],
          "name": "stdout"
        }
      ]
    },
    {
      "cell_type": "code",
      "metadata": {
        "colab": {
          "base_uri": "https://localhost:8080/"
        },
        "id": "jkccWNc5SLie",
        "outputId": "2656beb2-e69e-4668-ec71-55e63f9fe2ba"
      },
      "source": [
        "len(df.index)"
      ],
      "execution_count": null,
      "outputs": [
        {
          "output_type": "execute_result",
          "data": {
            "text/plain": [
              "27820"
            ]
          },
          "metadata": {
            "tags": []
          },
          "execution_count": 7
        }
      ]
    },
    {
      "cell_type": "code",
      "metadata": {
        "colab": {
          "base_uri": "https://localhost:8080/"
        },
        "id": "oyemkrDxSr1u",
        "outputId": "13d70e83-1e48-45c0-d5fd-2c7b937f30c5"
      },
      "source": [
        "len(df.columns)"
      ],
      "execution_count": null,
      "outputs": [
        {
          "output_type": "execute_result",
          "data": {
            "text/plain": [
              "12"
            ]
          },
          "metadata": {
            "tags": []
          },
          "execution_count": 8
        }
      ]
    },
    {
      "cell_type": "code",
      "metadata": {
        "colab": {
          "base_uri": "https://localhost:8080/"
        },
        "id": "ztKgZr8oS02Y",
        "outputId": "315c68a2-6560-44cb-8410-1f6a167e221d"
      },
      "source": [
        "df.dtypes\n"
      ],
      "execution_count": null,
      "outputs": [
        {
          "output_type": "execute_result",
          "data": {
            "text/plain": [
              "country                object\n",
              "year                    int64\n",
              "sex                    object\n",
              "age                    object\n",
              "suicides_no             int64\n",
              "population              int64\n",
              "suicides/100k pop     float64\n",
              "country-year           object\n",
              "HDI for year          float64\n",
              " gdp_for_year ($)      object\n",
              "gdp_per_capita ($)      int64\n",
              "generation             object\n",
              "dtype: object"
            ]
          },
          "metadata": {
            "tags": []
          },
          "execution_count": 10
        }
      ]
    },
    {
      "cell_type": "code",
      "metadata": {
        "colab": {
          "base_uri": "https://localhost:8080/"
        },
        "id": "DooumraSTYtG",
        "outputId": "ee17a1c7-c611-4e9a-a6e2-06bdbffe17b2"
      },
      "source": [
        "print(df.apply(lambda col: col.unique()))"
      ],
      "execution_count": null,
      "outputs": [
        {
          "output_type": "stream",
          "text": [
            "country               [Albania, Antigua and Barbuda, Argentina, Arme...\n",
            "year                  [1987, 1988, 1989, 1992, 1993, 1994, 1995, 199...\n",
            "sex                                                      [male, female]\n",
            "age                   [15-24 years, 35-54 years, 75+ years, 25-34 ye...\n",
            "suicides_no           [21, 16, 14, 1, 9, 6, 4, 0, 2, 17, 8, 3, 5, 18...\n",
            "population            [312900, 308000, 289700, 21800, 274300, 35600,...\n",
            "suicides/100k pop     [6.71, 5.19, 4.83, 4.59, 3.28, 2.81, 2.15, 1.5...\n",
            "country-year          [Albania1987, Albania1988, Albania1989, Albani...\n",
            "HDI for year          [nan, 0.619, 0.6559999999999999, 0.695, 0.722,...\n",
            " gdp_for_year ($)     [2,15,66,24,900, 2,12,60,00,000, 2,33,51,24,98...\n",
            "gdp_per_capita ($)    [796, 769, 833, 251, 437, 697, 835, 1127, 793,...\n",
            "generation            [Generation X, Silent, G.I. Generation, Boomer...\n",
            "dtype: object\n"
          ],
          "name": "stdout"
        }
      ]
    },
    {
      "cell_type": "code",
      "metadata": {
        "colab": {
          "base_uri": "https://localhost:8080/"
        },
        "id": "IvvvyKjATnqx",
        "outputId": "cc1ae19d-573a-4e5a-bb9a-b5e68730fcb7"
      },
      "source": [
        "df.isnull().sum(axis=1)"
      ],
      "execution_count": null,
      "outputs": [
        {
          "output_type": "execute_result",
          "data": {
            "text/plain": [
              "0        1\n",
              "1        1\n",
              "2        1\n",
              "3        1\n",
              "4        1\n",
              "        ..\n",
              "27815    0\n",
              "27816    0\n",
              "27817    0\n",
              "27818    0\n",
              "27819    0\n",
              "Length: 27820, dtype: int64"
            ]
          },
          "metadata": {
            "tags": []
          },
          "execution_count": 19
        }
      ]
    },
    {
      "cell_type": "code",
      "metadata": {
        "colab": {
          "base_uri": "https://localhost:8080/"
        },
        "id": "tfva5LsVUE88",
        "outputId": "986fc429-0213-4c1b-e601-b2ec98e3cd30"
      },
      "source": [
        "result = df.isna().sum().sum()\n",
        "print(333840 - result)"
      ],
      "execution_count": null,
      "outputs": [
        {
          "output_type": "stream",
          "text": [
            "314384\n"
          ],
          "name": "stdout"
        }
      ]
    }
  ]
}